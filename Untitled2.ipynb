{
 "cells": [
  {
   "cell_type": "code",
   "execution_count": 1,
   "metadata": {},
   "outputs": [
    {
     "name": "stderr",
     "output_type": "stream",
     "text": [
      "Using TensorFlow backend.\n"
     ]
    }
   ],
   "source": [
    "import tensorflow as tf\n",
    "import pandas as pd\n",
    "import seaborn as sns\n",
    "import matplotlib.pyplot as plt\n",
    "import keras\n",
    "import numpy as np\n",
    "import sklearn\n",
    "from keras.callbacks import TensorBoard\n",
    "from time import time"
   ]
  },
  {
   "cell_type": "code",
   "execution_count": 2,
   "metadata": {},
   "outputs": [],
   "source": [
    "df_2 = pd.read_csv('df_4.csv', index_col= False)\n",
    "df_3 = df_2.copy()"
   ]
  },
  {
   "cell_type": "code",
   "execution_count": 3,
   "metadata": {},
   "outputs": [],
   "source": [
    "df_3['howzzat'] = [0 if ((x == True)) else 1 for x in pd.isna(df_3['player_dismissed'])]\n",
    "df_3['howzzat'] = [0 if (y == True) else 1 for y in (df_3['batsman'] != df_3['player_dismissed'])]"
   ]
  },
  {
   "cell_type": "code",
   "execution_count": 4,
   "metadata": {},
   "outputs": [],
   "source": [
    "df_3 = df_3.drop([])"
   ]
  },
  {
   "cell_type": "code",
   "execution_count": 5,
   "metadata": {},
   "outputs": [
    {
     "data": {
      "text/html": [
       "<div>\n",
       "<style scoped>\n",
       "    .dataframe tbody tr th:only-of-type {\n",
       "        vertical-align: middle;\n",
       "    }\n",
       "\n",
       "    .dataframe tbody tr th {\n",
       "        vertical-align: top;\n",
       "    }\n",
       "\n",
       "    .dataframe thead th {\n",
       "        text-align: right;\n",
       "    }\n",
       "</style>\n",
       "<table border=\"1\" class=\"dataframe\">\n",
       "  <thead>\n",
       "    <tr style=\"text-align: right;\">\n",
       "      <th></th>\n",
       "      <th>match_id</th>\n",
       "      <th>inning</th>\n",
       "      <th>batting_team</th>\n",
       "      <th>bowling_team</th>\n",
       "      <th>over</th>\n",
       "      <th>ball</th>\n",
       "      <th>batsman</th>\n",
       "      <th>non_striker</th>\n",
       "      <th>bowler</th>\n",
       "      <th>is_super_over</th>\n",
       "      <th>...</th>\n",
       "      <th>noball_runs</th>\n",
       "      <th>penalty_runs</th>\n",
       "      <th>batsman_runs</th>\n",
       "      <th>extra_runs</th>\n",
       "      <th>total_runs</th>\n",
       "      <th>player_dismissed</th>\n",
       "      <th>dismissal_kind</th>\n",
       "      <th>fielder</th>\n",
       "      <th>cumulative_runs</th>\n",
       "      <th>howzzat</th>\n",
       "    </tr>\n",
       "  </thead>\n",
       "  <tbody>\n",
       "    <tr>\n",
       "      <th>0</th>\n",
       "      <td>1</td>\n",
       "      <td>1</td>\n",
       "      <td>Sunrisers Hyderabad</td>\n",
       "      <td>Royal Challengers Bangalore</td>\n",
       "      <td>1</td>\n",
       "      <td>1</td>\n",
       "      <td>DA Warner</td>\n",
       "      <td>S Dhawan</td>\n",
       "      <td>TS Mills</td>\n",
       "      <td>0</td>\n",
       "      <td>...</td>\n",
       "      <td>0</td>\n",
       "      <td>0</td>\n",
       "      <td>0</td>\n",
       "      <td>0</td>\n",
       "      <td>0</td>\n",
       "      <td>NaN</td>\n",
       "      <td>NaN</td>\n",
       "      <td>NaN</td>\n",
       "      <td>0</td>\n",
       "      <td>0</td>\n",
       "    </tr>\n",
       "    <tr>\n",
       "      <th>1</th>\n",
       "      <td>1</td>\n",
       "      <td>1</td>\n",
       "      <td>Sunrisers Hyderabad</td>\n",
       "      <td>Royal Challengers Bangalore</td>\n",
       "      <td>1</td>\n",
       "      <td>2</td>\n",
       "      <td>DA Warner</td>\n",
       "      <td>S Dhawan</td>\n",
       "      <td>TS Mills</td>\n",
       "      <td>0</td>\n",
       "      <td>...</td>\n",
       "      <td>0</td>\n",
       "      <td>0</td>\n",
       "      <td>0</td>\n",
       "      <td>0</td>\n",
       "      <td>0</td>\n",
       "      <td>NaN</td>\n",
       "      <td>NaN</td>\n",
       "      <td>NaN</td>\n",
       "      <td>0</td>\n",
       "      <td>0</td>\n",
       "    </tr>\n",
       "    <tr>\n",
       "      <th>2</th>\n",
       "      <td>1</td>\n",
       "      <td>1</td>\n",
       "      <td>Sunrisers Hyderabad</td>\n",
       "      <td>Royal Challengers Bangalore</td>\n",
       "      <td>1</td>\n",
       "      <td>3</td>\n",
       "      <td>DA Warner</td>\n",
       "      <td>S Dhawan</td>\n",
       "      <td>TS Mills</td>\n",
       "      <td>0</td>\n",
       "      <td>...</td>\n",
       "      <td>0</td>\n",
       "      <td>0</td>\n",
       "      <td>4</td>\n",
       "      <td>0</td>\n",
       "      <td>4</td>\n",
       "      <td>NaN</td>\n",
       "      <td>NaN</td>\n",
       "      <td>NaN</td>\n",
       "      <td>4</td>\n",
       "      <td>0</td>\n",
       "    </tr>\n",
       "    <tr>\n",
       "      <th>3</th>\n",
       "      <td>1</td>\n",
       "      <td>1</td>\n",
       "      <td>Sunrisers Hyderabad</td>\n",
       "      <td>Royal Challengers Bangalore</td>\n",
       "      <td>1</td>\n",
       "      <td>4</td>\n",
       "      <td>DA Warner</td>\n",
       "      <td>S Dhawan</td>\n",
       "      <td>TS Mills</td>\n",
       "      <td>0</td>\n",
       "      <td>...</td>\n",
       "      <td>0</td>\n",
       "      <td>0</td>\n",
       "      <td>0</td>\n",
       "      <td>0</td>\n",
       "      <td>0</td>\n",
       "      <td>NaN</td>\n",
       "      <td>NaN</td>\n",
       "      <td>NaN</td>\n",
       "      <td>4</td>\n",
       "      <td>0</td>\n",
       "    </tr>\n",
       "    <tr>\n",
       "      <th>4</th>\n",
       "      <td>1</td>\n",
       "      <td>1</td>\n",
       "      <td>Sunrisers Hyderabad</td>\n",
       "      <td>Royal Challengers Bangalore</td>\n",
       "      <td>1</td>\n",
       "      <td>5</td>\n",
       "      <td>DA Warner</td>\n",
       "      <td>S Dhawan</td>\n",
       "      <td>TS Mills</td>\n",
       "      <td>0</td>\n",
       "      <td>...</td>\n",
       "      <td>0</td>\n",
       "      <td>0</td>\n",
       "      <td>0</td>\n",
       "      <td>2</td>\n",
       "      <td>2</td>\n",
       "      <td>NaN</td>\n",
       "      <td>NaN</td>\n",
       "      <td>NaN</td>\n",
       "      <td>4</td>\n",
       "      <td>0</td>\n",
       "    </tr>\n",
       "  </tbody>\n",
       "</table>\n",
       "<p>5 rows × 23 columns</p>\n",
       "</div>"
      ],
      "text/plain": [
       "   match_id  inning         batting_team                 bowling_team  over  \\\n",
       "0         1       1  Sunrisers Hyderabad  Royal Challengers Bangalore     1   \n",
       "1         1       1  Sunrisers Hyderabad  Royal Challengers Bangalore     1   \n",
       "2         1       1  Sunrisers Hyderabad  Royal Challengers Bangalore     1   \n",
       "3         1       1  Sunrisers Hyderabad  Royal Challengers Bangalore     1   \n",
       "4         1       1  Sunrisers Hyderabad  Royal Challengers Bangalore     1   \n",
       "\n",
       "   ball    batsman non_striker    bowler  is_super_over  ...  noball_runs  \\\n",
       "0     1  DA Warner    S Dhawan  TS Mills              0  ...            0   \n",
       "1     2  DA Warner    S Dhawan  TS Mills              0  ...            0   \n",
       "2     3  DA Warner    S Dhawan  TS Mills              0  ...            0   \n",
       "3     4  DA Warner    S Dhawan  TS Mills              0  ...            0   \n",
       "4     5  DA Warner    S Dhawan  TS Mills              0  ...            0   \n",
       "\n",
       "   penalty_runs  batsman_runs  extra_runs  total_runs  player_dismissed  \\\n",
       "0             0             0           0           0               NaN   \n",
       "1             0             0           0           0               NaN   \n",
       "2             0             4           0           4               NaN   \n",
       "3             0             0           0           0               NaN   \n",
       "4             0             0           2           2               NaN   \n",
       "\n",
       "   dismissal_kind  fielder cumulative_runs howzzat  \n",
       "0             NaN      NaN               0       0  \n",
       "1             NaN      NaN               0       0  \n",
       "2             NaN      NaN               4       0  \n",
       "3             NaN      NaN               4       0  \n",
       "4             NaN      NaN               4       0  \n",
       "\n",
       "[5 rows x 23 columns]"
      ]
     },
     "execution_count": 5,
     "metadata": {},
     "output_type": "execute_result"
    }
   ],
   "source": [
    "df_3.head()"
   ]
  },
  {
   "cell_type": "code",
   "execution_count": 6,
   "metadata": {},
   "outputs": [],
   "source": [
    "df_3['cumulative_runs'] = df_3['cumulative_runs'] - df_3['batsman_runs']"
   ]
  },
  {
   "cell_type": "code",
   "execution_count": 7,
   "metadata": {},
   "outputs": [],
   "source": [
    "df_3 = pd.concat([df_3,pd.get_dummies(df_3['batsman'], prefix='batsman',dummy_na=False)],axis=1).drop(['batsman'],axis=1)\n",
    "df_3 = pd.concat([df_3,pd.get_dummies(df_3['non_striker'], prefix='non_striker',dummy_na=False)],axis=1).drop(['non_striker'],axis=1)\n",
    "df_3 = pd.concat([df_3,pd.get_dummies(df_3['bowler'], prefix='bowler',dummy_na=False)],axis=1).drop(['bowler'],axis=1)\n",
    "df_3 = pd.concat([df_3,pd.get_dummies(df_3['over'], prefix='over',dummy_na=False)],axis=1).drop(['over'],axis=1)"
   ]
  },
  {
   "cell_type": "code",
   "execution_count": 8,
   "metadata": {},
   "outputs": [],
   "source": [
    "from sklearn.model_selection import train_test_split\n",
    "#Yruns = df_3.loc[:, df_3.columns.str.startswith('batsman_runs')]\n",
    "Y_runs = df_3['batsman_runs']\n",
    "Y_wickets = df_3['howzzat']"
   ]
  },
  {
   "cell_type": "code",
   "execution_count": 9,
   "metadata": {},
   "outputs": [],
   "source": [
    "df_3 = df_3.drop(['batsman_runs', 'howzzat', 'total_runs'], axis =1)"
   ]
  },
  {
   "cell_type": "code",
   "execution_count": 10,
   "metadata": {},
   "outputs": [],
   "source": [
    "X_train, X_test, y_train_runs, y_test_runs = train_test_split(\n",
    "    df_3, Y_runs, test_size=0.33, random_state=42)"
   ]
  },
  {
   "cell_type": "code",
   "execution_count": 11,
   "metadata": {},
   "outputs": [
    {
     "data": {
      "text/plain": [
       "Index(['match_id', 'inning', 'batting_team', 'bowling_team', 'ball',\n",
       "       'is_super_over', 'wide_runs', 'bye_runs', 'legbye_runs', 'noball_runs',\n",
       "       'penalty_runs', 'extra_runs', 'player_dismissed', 'dismissal_kind',\n",
       "       'fielder', 'cumulative_runs', 'batsman_A Ashish Reddy',\n",
       "       'batsman_A Chandila', 'batsman_A Chopra', 'batsman_A Choudhary'],\n",
       "      dtype='object')"
      ]
     },
     "execution_count": 11,
     "metadata": {},
     "output_type": "execute_result"
    }
   ],
   "source": [
    "df_3.columns[:20]"
   ]
  },
  {
   "cell_type": "code",
   "execution_count": 12,
   "metadata": {},
   "outputs": [
    {
     "name": "stdout",
     "output_type": "stream",
     "text": [
      "1448 1467 1043 1447 16 531 532 1042\n"
     ]
    }
   ],
   "source": [
    "bowlers_col_names = list(df_3.loc[:, df_3.columns.str.startswith('bowler')])\n",
    "batsman_col_names = list(df_3.loc[:, df_3.columns.str.startswith('batsman')])\n",
    "over_col_names = list(df_3.loc[:, df_3.columns.str.startswith('over')])\n",
    "non_striker_col_names = list(df_3.loc[:, df_3.columns.str.startswith('non_striker')])\n",
    "print(df_3.columns.get_loc(over_col_names[0]), df_3.columns.get_loc(over_col_names[-1]), df_3.columns.get_loc(bowlers_col_names[0]), df_3.columns.get_loc(bowlers_col_names[-1]),df_3.columns.get_loc(batsman_col_names[0]),df_3.columns.get_loc(batsman_col_names[-1]),df_3.columns.get_loc(non_striker_col_names[0]),df_3.columns.get_loc(non_striker_col_names[-1]))\n",
    "\n"
   ]
  },
  {
   "cell_type": "code",
   "execution_count": 14,
   "metadata": {},
   "outputs": [],
   "source": [
    "model = tf.keras.models.Sequential([\n",
    "  tf.keras.layers.Dense(22, activation='softmax'),\n",
    "  tf.keras.layers.Dropout(0.2),\n",
    "  tf.keras.layers.Dense(128, activation='softmax'),\n",
    "  tf.keras.layers.Dropout(0.2),\n",
    "  tf.keras.layers.Dense(128, activation='softmax'),\n",
    "  tf.keras.layers.Dropout(0.2),\n",
    "  tf.keras.layers.Dense(8, activation='softmax')\n",
    "])"
   ]
  },
  {
   "cell_type": "code",
   "execution_count": 61,
   "metadata": {},
   "outputs": [],
   "source": [
    "loss_fn = tf.keras.losses.SparseCategoricalCrossentropy(from_logits=False)\n",
    "adam = tf.keras.optimizers.Adam(learning_rate=0.01, beta_1=0.9, beta_2=0.999, amsgrad=False)\n",
    "early_stop = keras.callbacks.EarlyStopping(monitor='accuracy',\n",
    "                               min_delta = 0,\n",
    "                               patience = 20)\n",
    "tensorboard = TensorBoard(log_dir=\"logs/{}\".format(time()))"
   ]
  },
  {
   "cell_type": "code",
   "execution_count": 16,
   "metadata": {},
   "outputs": [],
   "source": [
    "model.compile(optimizer=adam,\n",
    "              loss='sparse_categorical_crossentropy',\n",
    "              metrics=['accuracy'])"
   ]
  },
  {
   "cell_type": "code",
   "execution_count": 17,
   "metadata": {},
   "outputs": [],
   "source": [
    "X_train_overs_1 = X_train.iloc[:,[1, 4]]\n",
    "X_train_overs_3 = X_train.iloc[:,1448:1468]\n",
    "#X_train_overs_1.append([X_train_overs_2, X_test_overs_3])\n",
    "X_train_overs_1 = pd.concat([X_train_overs_1, X_train_overs_3], axis=1, join = 'inner')"
   ]
  },
  {
   "cell_type": "code",
   "execution_count": 41,
   "metadata": {},
   "outputs": [
    {
     "name": "stdout",
     "output_type": "stream",
     "text": [
      "Train on 119982 samples\n",
      "Epoch 1/5\n",
      "119982/119982 [==============================] - 5s 38us/sample - loss: 1.3217 - accuracy: 0.4245\n",
      "Epoch 2/5\n",
      "119982/119982 [==============================] - 4s 36us/sample - loss: 1.3011 - accuracy: 0.4538\n",
      "Epoch 3/5\n",
      "119982/119982 [==============================] - 4s 36us/sample - loss: 1.2984 - accuracy: 0.4540\n",
      "Epoch 4/5\n",
      "119982/119982 [==============================] - 4s 36us/sample - loss: 1.2981 - accuracy: 0.4541\n",
      "Epoch 5/5\n",
      "119982/119982 [==============================] - 4s 36us/sample - loss: 1.2980 - accuracy: 0.4539\n"
     ]
    },
    {
     "data": {
      "text/plain": [
       "<tensorflow.python.keras.callbacks.History at 0x16a9aba50>"
      ]
     },
     "execution_count": 41,
     "metadata": {},
     "output_type": "execute_result"
    }
   ],
   "source": [
    "model.fit(X_train_overs_1.values, y_train_runs.values, epochs = 5,  callbacks = [early_stop], shuffle = True)"
   ]
  },
  {
   "cell_type": "code",
   "execution_count": 95,
   "metadata": {},
   "outputs": [],
   "source": [
    "model_bowlers = tf.keras.models.Sequential([\n",
    "  tf.keras.layers.Dense(426, activation='softmax'),\n",
    "  tf.keras.layers.Dropout(0.2),\n",
    "  tf.keras.layers.Dense(128, activation='softmax'),\n",
    "  tf.keras.layers.Dropout(0.2),\n",
    "  tf.keras.layers.Dense(128, activation='softmax'),\n",
    "  tf.keras.layers.Dropout(0.2),\n",
    "  tf.keras.layers.Dense(8, activation='softmax')\n",
    "])"
   ]
  },
  {
   "cell_type": "code",
   "execution_count": 96,
   "metadata": {},
   "outputs": [],
   "source": [
    "model_bowlers.compile(optimizer=adam,\n",
    "              loss='sparse_categorical_crossentropy',\n",
    "              metrics=['accuracy'])"
   ]
  },
  {
   "cell_type": "code",
   "execution_count": 97,
   "metadata": {},
   "outputs": [],
   "source": [
    "X_train_overs_1 = X_train.iloc[:,[5]]\n",
    "X_train_overs_2 = X_train.iloc[:,1043:1448]\n",
    "X_train_overs_3 = X_train.iloc[:,1448:1468]\n",
    "#X_train_overs_1.append([X_train_overs_2, X_test_overs_3])\n",
    "X_train_bowl_1 = pd.concat([X_train_overs_1, X_train_overs_2, X_train_overs_3], axis=1, join = 'inner')"
   ]
  },
  {
   "cell_type": "code",
   "execution_count": 98,
   "metadata": {},
   "outputs": [
    {
     "name": "stdout",
     "output_type": "stream",
     "text": [
      "Train on 119982 samples\n",
      "Epoch 1/10\n",
      "119982/119982 [==============================] - 6s 54us/sample - loss: 1.3064 - accuracy: 0.4433\n",
      "Epoch 2/10\n",
      "119982/119982 [==============================] - 6s 51us/sample - loss: 1.2940 - accuracy: 0.4567\n",
      "Epoch 3/10\n",
      "119982/119982 [==============================] - 6s 52us/sample - loss: 1.2897 - accuracy: 0.4583\n",
      "Epoch 4/10\n",
      "119982/119982 [==============================] - 7s 54us/sample - loss: 1.2859 - accuracy: 0.4600\n",
      "Epoch 5/10\n",
      "119982/119982 [==============================] - 6s 52us/sample - loss: 1.2824 - accuracy: 0.4621\n",
      "Epoch 6/10\n",
      "119982/119982 [==============================] - 6s 53us/sample - loss: 1.2790 - accuracy: 0.4633\n",
      "Epoch 7/10\n",
      "119982/119982 [==============================] - 6s 53us/sample - loss: 1.2768 - accuracy: 0.4647\n",
      "Epoch 8/10\n",
      "119982/119982 [==============================] - 6s 52us/sample - loss: 1.2745 - accuracy: 0.4657\n",
      "Epoch 9/10\n",
      "119982/119982 [==============================] - 6s 52us/sample - loss: 1.2720 - accuracy: 0.4664\n",
      "Epoch 10/10\n",
      "119982/119982 [==============================] - 6s 54us/sample - loss: 1.2704 - accuracy: 0.4671\n"
     ]
    },
    {
     "data": {
      "text/plain": [
       "<tensorflow.python.keras.callbacks.History at 0x1919f58d0>"
      ]
     },
     "execution_count": 98,
     "metadata": {},
     "output_type": "execute_result"
    }
   ],
   "source": [
    "model_bowlers.fit(X_train_bowl_1.values, y_train_runs.values, epochs = 10,  callbacks = [early_stop], shuffle = True)"
   ]
  },
  {
   "cell_type": "code",
   "execution_count": 101,
   "metadata": {},
   "outputs": [],
   "source": [
    "model_bat = tf.keras.models.Sequential([\n",
    "  tf.keras.layers.Dense(518, activation='softmax'),\n",
    "  tf.keras.layers.Dropout(0.2),\n",
    "  tf.keras.layers.Dense(128, activation='softmax'),\n",
    "  tf.keras.layers.Dropout(0.2),\n",
    "  tf.keras.layers.Dense(128, activation='softmax'),\n",
    "  tf.keras.layers.Dropout(0.2),\n",
    "  tf.keras.layers.Dense(8, activation='softmax')\n",
    "])"
   ]
  },
  {
   "cell_type": "code",
   "execution_count": 102,
   "metadata": {},
   "outputs": [],
   "source": [
    "model_bat.compile(optimizer=adam,\n",
    "              loss='sparse_categorical_crossentropy',\n",
    "              metrics=['accuracy'])"
   ]
  },
  {
   "cell_type": "code",
   "execution_count": 103,
   "metadata": {},
   "outputs": [],
   "source": [
    "X_train_overs_1 = X_train.iloc[:,[1, 15]]\n",
    "X_train_overs_3 = X_train.iloc[:,16:532]\n",
    "#X_train_overs_1.append([X_train_overs_2, X_test_overs_3])\n",
    "X_train_bat_1 = pd.concat([X_train_overs_1, X_train_overs_3], axis=1, join = 'inner')"
   ]
  },
  {
   "cell_type": "code",
   "execution_count": 104,
   "metadata": {},
   "outputs": [
    {
     "name": "stdout",
     "output_type": "stream",
     "text": [
      "Train on 119982 samples\n",
      "Epoch 1/15\n",
      "119982/119982 [==============================] - 6s 53us/sample - loss: 1.3135 - accuracy: 0.4283\n",
      "Epoch 2/15\n",
      "119982/119982 [==============================] - 6s 54us/sample - loss: 1.3049 - accuracy: 0.4425\n",
      "Epoch 3/15\n",
      "119982/119982 [==============================] - 7s 55us/sample - loss: 1.3020 - accuracy: 0.4448\n",
      "Epoch 4/15\n",
      "119982/119982 [==============================] - 7s 54us/sample - loss: 1.2995 - accuracy: 0.4476\n",
      "Epoch 5/15\n",
      "119982/119982 [==============================] - 6s 54us/sample - loss: 1.2973 - accuracy: 0.4504\n",
      "Epoch 6/15\n",
      "119982/119982 [==============================] - 7s 55us/sample - loss: 1.2972 - accuracy: 0.4491\n",
      "Epoch 7/15\n",
      "119982/119982 [==============================] - 7s 56us/sample - loss: 1.2965 - accuracy: 0.4503\n",
      "Epoch 8/15\n",
      "119982/119982 [==============================] - 7s 56us/sample - loss: 1.2952 - accuracy: 0.4505\n",
      "Epoch 9/15\n",
      "119982/119982 [==============================] - 7s 57us/sample - loss: 1.2943 - accuracy: 0.4510\n",
      "Epoch 10/15\n",
      "119982/119982 [==============================] - 7s 56us/sample - loss: 1.2933 - accuracy: 0.4518\n",
      "Epoch 11/15\n",
      "119982/119982 [==============================] - 7s 56us/sample - loss: 1.2921 - accuracy: 0.4526\n",
      "Epoch 12/15\n",
      "119982/119982 [==============================] - 6s 52us/sample - loss: 1.2923 - accuracy: 0.4529\n",
      "Epoch 13/15\n",
      "119982/119982 [==============================] - 7s 56us/sample - loss: 1.2914 - accuracy: 0.4525\n",
      "Epoch 14/15\n",
      "119982/119982 [==============================] - 8s 66us/sample - loss: 1.2903 - accuracy: 0.4531\n",
      "Epoch 15/15\n",
      "119982/119982 [==============================] - 8s 69us/sample - loss: 1.2887 - accuracy: 0.4536\n"
     ]
    },
    {
     "data": {
      "text/plain": [
       "<tensorflow.python.keras.callbacks.History at 0x191eba150>"
      ]
     },
     "execution_count": 104,
     "metadata": {},
     "output_type": "execute_result"
    }
   ],
   "source": [
    "model_bat.fit(X_train_bat_1.values, y_train_runs.values, epochs = 15,  callbacks = [early_stop], shuffle = True)"
   ]
  },
  {
   "cell_type": "code",
   "execution_count": 111,
   "metadata": {},
   "outputs": [],
   "source": [
    "model_partnership = tf.keras.models.Sequential([\n",
    "  tf.keras.layers.Dense(518, activation='softmax'),\n",
    "  tf.keras.layers.Dropout(0.2),\n",
    "  tf.keras.layers.Dense(128, activation='softmax'),\n",
    "  tf.keras.layers.Dropout(0.2),\n",
    "  tf.keras.layers.Dense(128, activation='softmax'),\n",
    "  tf.keras.layers.Dropout(0.2),\n",
    "  tf.keras.layers.Dense(8, activation='softmax')\n",
    "])"
   ]
  },
  {
   "cell_type": "code",
   "execution_count": 112,
   "metadata": {},
   "outputs": [],
   "source": [
    "model_partnership.compile(optimizer=adam,\n",
    "              loss='sparse_categorical_crossentropy',\n",
    "              metrics=['accuracy'])"
   ]
  },
  {
   "cell_type": "code",
   "execution_count": 113,
   "metadata": {},
   "outputs": [],
   "source": [
    "X_train_overs_1 = X_train.iloc[:,523:1042]\n",
    "X_train_overs_3 = X_train.iloc[:,16:532]\n",
    "#X_train_overs_1.append([X_train_overs_2, X_test_overs_3])\n",
    "X_train_par_1 = pd.concat([X_train_overs_1, X_train_overs_3], axis=1, join = 'inner')"
   ]
  },
  {
   "cell_type": "code",
   "execution_count": 114,
   "metadata": {},
   "outputs": [
    {
     "name": "stdout",
     "output_type": "stream",
     "text": [
      "Train on 119982 samples\n",
      "Epoch 1/5\n",
      "119982/119982 [==============================] - 17s 144us/sample - loss: 1.3232 - accuracy: 0.4022\n",
      "Epoch 2/5\n",
      "119982/119982 [==============================] - 17s 142us/sample - loss: 1.3146 - accuracy: 0.4277\n",
      "Epoch 3/5\n",
      "119982/119982 [==============================] - 17s 142us/sample - loss: 1.3084 - accuracy: 0.4382\n",
      "Epoch 4/5\n",
      "119982/119982 [==============================] - 17s 139us/sample - loss: 1.3036 - accuracy: 0.4431\n",
      "Epoch 5/5\n",
      "119982/119982 [==============================] - 16s 132us/sample - loss: 1.2995 - accuracy: 0.4478\n"
     ]
    },
    {
     "data": {
      "text/plain": [
       "<tensorflow.python.keras.callbacks.History at 0x1928ef590>"
      ]
     },
     "execution_count": 114,
     "metadata": {},
     "output_type": "execute_result"
    }
   ],
   "source": [
    "model_partnership.fit(X_train_par_1.values, y_train_runs.values, epochs = 5,  callbacks = [early_stop], shuffle = True)"
   ]
  },
  {
   "cell_type": "code",
   "execution_count": 60,
   "metadata": {},
   "outputs": [],
   "source": [
    "from sklearn.svm import SVC\n"
   ]
  },
  {
   "cell_type": "code",
   "execution_count": 18,
   "metadata": {},
   "outputs": [],
   "source": [
    "df_4 = pd.read_csv('df_4.csv', index_col= False)\n",
    "df_4 = df_4.copy()"
   ]
  },
  {
   "cell_type": "code",
   "execution_count": null,
   "metadata": {},
   "outputs": [],
   "source": []
  },
  {
   "cell_type": "code",
   "execution_count": 19,
   "metadata": {},
   "outputs": [],
   "source": [
    "df_4['cumulative_runs'] = df_4['cumulative_runs'] - df_4['batsman_runs']"
   ]
  },
  {
   "cell_type": "code",
   "execution_count": 20,
   "metadata": {},
   "outputs": [],
   "source": [
    "df_4 = df_4.drop(['batsman_runs', 'total_runs', 'player_dismissed', 'dismissal_kind', 'fielder'], axis =1)"
   ]
  },
  {
   "cell_type": "code",
   "execution_count": 21,
   "metadata": {},
   "outputs": [],
   "source": [
    "X_train_overs_1 = X_train.iloc[:,[1]]\n",
    "X_train_overs_3 = X_train.iloc[:,4:1468]\n",
    "#X_train_overs_1.append([X_train_overs_2, X_test_overs_3])\n",
    "X_train_svc_1 = pd.concat([X_train_overs_1, X_train_overs_3], axis=1, join = 'inner')"
   ]
  },
  {
   "cell_type": "code",
   "execution_count": 22,
   "metadata": {},
   "outputs": [],
   "source": [
    "X_train_svc_1 = X_train_svc_1.drop([ 'player_dismissed', 'dismissal_kind', 'fielder'], axis =1)"
   ]
  },
  {
   "cell_type": "code",
   "execution_count": 23,
   "metadata": {},
   "outputs": [],
   "source": [
    "model_complete = tf.keras.models.Sequential([\n",
    "  tf.keras.layers.Dense(1465, activation='softmax'),\n",
    "  tf.keras.layers.Dropout(0.2),\n",
    "  tf.keras.layers.Dense(1028, activation='softmax'),\n",
    "  tf.keras.layers.Dropout(0.2),\n",
    "  tf.keras.layers.Dense(128, activation='softmax'),\n",
    "  tf.keras.layers.Dropout(0.2),\n",
    "  tf.keras.layers.Dense(8, activation='softmax')\n",
    "])"
   ]
  },
  {
   "cell_type": "code",
   "execution_count": 72,
   "metadata": {},
   "outputs": [
    {
     "name": "stdout",
     "output_type": "stream",
     "text": [
      "Train on 119982 samples\n",
      "Epoch 1/10\n",
      "119982/119982 [==============================] - 45s 373us/sample - loss: 1.2823 - accuracy: 0.4552\n",
      "Epoch 2/10\n",
      "119982/119982 [==============================] - 45s 372us/sample - loss: 1.2823 - accuracy: 0.4546\n",
      "Epoch 3/10\n",
      "119982/119982 [==============================] - 45s 372us/sample - loss: 1.2811 - accuracy: 0.4557\n",
      "Epoch 4/10\n",
      "119982/119982 [==============================] - 49s 408us/sample - loss: 1.2807 - accuracy: 0.4566\n",
      "Epoch 5/10\n",
      "119982/119982 [==============================] - 48s 399us/sample - loss: 1.2810 - accuracy: 0.4556\n",
      "Epoch 6/10\n",
      "119982/119982 [==============================] - 54s 446us/sample - loss: 1.2816 - accuracy: 0.4572\n",
      "Epoch 7/10\n",
      "119982/119982 [==============================] - 48s 398us/sample - loss: 1.2816 - accuracy: 0.4566\n",
      "Epoch 8/10\n",
      "119982/119982 [==============================] - 55s 456us/sample - loss: 1.2812 - accuracy: 0.4556\n",
      "Epoch 9/10\n",
      "119982/119982 [==============================] - 56s 469us/sample - loss: 1.2806 - accuracy: 0.4560\n",
      "Epoch 10/10\n",
      "119982/119982 [==============================] - 53s 443us/sample - loss: 1.2814 - accuracy: 0.4551\n"
     ]
    },
    {
     "data": {
      "text/plain": [
       "<tensorflow.python.keras.callbacks.History at 0x16c9c21d0>"
      ]
     },
     "execution_count": 72,
     "metadata": {},
     "output_type": "execute_result"
    }
   ],
   "source": [
    "model_complete.compile(optimizer='sgd',\n",
    "              loss='sparse_categorical_crossentropy',\n",
    "              metrics=['accuracy'])\n",
    "model_complete.fit(X_train_svc_1.values, y_train_runs.values, epochs = 10,  callbacks = [early_stop, tensorboard], shuffle = True)"
   ]
  },
  {
   "cell_type": "code",
   "execution_count": 64,
   "metadata": {},
   "outputs": [
    {
     "data": {
      "image/png": "[encoded data removed]",
      "text/plain": [
       "<Figure size 432x288 with 2 Axes>"
      ]
     },
     "metadata": {
      "needs_background": "light"
     },
     "output_type": "display_data"
    }
   ],
   "source": [
    "\n",
    "corr = df_2.corr()\n",
    "sns.heatmap(corr, \n",
    "            xticklabels=corr.columns.values,\n",
    "            yticklabels=corr.columns.values)\n",
    "plt.savefig('correlation_matrix.png')"
   ]
  },
  {
   "cell_type": "code",
   "execution_count": 37,
   "metadata": {},
   "outputs": [
    {
     "data": {
      "text/plain": [
       "Index(['match_id', 'inning', 'batting_team', 'bowling_team', 'over', 'ball',\n",
       "       'batsman', 'non_striker', 'bowler', 'is_super_over', 'wide_runs',\n",
       "       'bye_runs', 'legbye_runs', 'noball_runs', 'penalty_runs',\n",
       "       'batsman_runs', 'extra_runs', 'total_runs', 'player_dismissed',\n",
       "       'dismissal_kind', 'fielder', 'cumulative_runs'],\n",
       "      dtype='object')"
      ]
     },
     "execution_count": 37,
     "metadata": {},
     "output_type": "execute_result"
    }
   ],
   "source": [
    "df_2.columns"
   ]
  },
  {
   "cell_type": "code",
   "execution_count": 47,
   "metadata": {},
   "outputs": [],
   "source": [
    "model_x = tf.keras.models.Sequential([\n",
    "  tf.keras.layers.Dense(21, activation='softmax'),\n",
    "  tf.keras.layers.Dropout(0.2),\n",
    "  tf.keras.layers.Dense(10, activation='softmax'),\n",
    "  tf.keras.layers.Dropout(0.2),\n",
    "  tf.keras.layers.Dense(10, activation='softmax'),\n",
    "  tf.keras.layers.Dropout(0.2),\n",
    "  tf.keras.layers.Dense(8, activation='softmax')\n",
    "])"
   ]
  },
  {
   "cell_type": "code",
   "execution_count": 74,
   "metadata": {},
   "outputs": [
    {
     "name": "stdout",
     "output_type": "stream",
     "text": [
      "Train on 119982 samples\n",
      "Epoch 1/15\n",
      "119982/119982 [==============================] - 7s 55us/sample - loss: 1.3190 - accuracy: 0.3995\n",
      "Epoch 2/15\n",
      "119982/119982 [==============================] - 5s 45us/sample - loss: 1.3167 - accuracy: 0.4041\n",
      "Epoch 3/15\n",
      "119982/119982 [==============================] - 5s 40us/sample - loss: 1.3164 - accuracy: 0.4075\n",
      "Epoch 4/15\n",
      "119982/119982 [==============================] - 4s 36us/sample - loss: 1.3153 - accuracy: 0.4148\n",
      "Epoch 5/15\n",
      "119982/119982 [==============================] - 4s 33us/sample - loss: 1.3152 - accuracy: 0.4173\n",
      "Epoch 6/15\n",
      "119982/119982 [==============================] - 4s 32us/sample - loss: 1.3140 - accuracy: 0.4206\n",
      "Epoch 7/15\n",
      "119982/119982 [==============================] - 4s 31us/sample - loss: 1.3145 - accuracy: 0.4190\n",
      "Epoch 8/15\n",
      "119982/119982 [==============================] - 4s 30us/sample - loss: 1.3137 - accuracy: 0.4227\n",
      "Epoch 9/15\n",
      "119982/119982 [==============================] - 4s 30us/sample - loss: 1.3130 - accuracy: 0.4273\n",
      "Epoch 10/15\n",
      "119982/119982 [==============================] - 4s 30us/sample - loss: 1.3119 - accuracy: 0.4298\n",
      "Epoch 11/15\n",
      "119982/119982 [==============================] - 4s 30us/sample - loss: 1.3112 - accuracy: 0.4302\n",
      "Epoch 12/15\n",
      "119982/119982 [==============================] - 4s 30us/sample - loss: 1.3098 - accuracy: 0.4308\n",
      "Epoch 13/15\n",
      "119982/119982 [==============================] - 4s 30us/sample - loss: 1.3090 - accuracy: 0.4335\n",
      "Epoch 14/15\n",
      "119982/119982 [==============================] - 4s 30us/sample - loss: 1.3081 - accuracy: 0.4350\n",
      "Epoch 15/15\n",
      "119982/119982 [==============================] - 4s 30us/sample - loss: 1.3082 - accuracy: 0.4358\n"
     ]
    },
    {
     "data": {
      "text/plain": [
       "<tensorflow.python.keras.callbacks.History at 0x16c977f90>"
      ]
     },
     "execution_count": 74,
     "metadata": {},
     "output_type": "execute_result"
    }
   ],
   "source": [
    "X_train_overs_1 = X_train.iloc[:,[15]]\n",
    "X_train_overs_3 = X_train.iloc[:,1448:1468]\n",
    "#X_train_overs_1.append([X_train_overs_2, X_test_overs_3])\n",
    "X_train_x = pd.concat([X_train_overs_1, X_train_overs_3], axis=1, join = 'inner')\n",
    "model_x.compile(optimizer=adam,\n",
    "              loss='sparse_categorical_crossentropy',\n",
    "              metrics=['accuracy'])\n",
    "model_x.fit(X_train_x.values, y_train_runs.values, epochs = 15,  callbacks = [early_stop], shuffle = True)"
   ]
  },
  {
   "cell_type": "code",
   "execution_count": 43,
   "metadata": {},
   "outputs": [
    {
     "data": {
      "text/html": [
       "<div>\n",
       "<style scoped>\n",
       "    .dataframe tbody tr th:only-of-type {\n",
       "        vertical-align: middle;\n",
       "    }\n",
       "\n",
       "    .dataframe tbody tr th {\n",
       "        vertical-align: top;\n",
       "    }\n",
       "\n",
       "    .dataframe thead th {\n",
       "        text-align: right;\n",
       "    }\n",
       "</style>\n",
       "<table border=\"1\" class=\"dataframe\">\n",
       "  <thead>\n",
       "    <tr style=\"text-align: right;\">\n",
       "      <th></th>\n",
       "      <th>ball</th>\n",
       "      <th>cumulative_runs</th>\n",
       "      <th>over_1</th>\n",
       "      <th>over_2</th>\n",
       "      <th>over_3</th>\n",
       "      <th>over_4</th>\n",
       "      <th>over_5</th>\n",
       "      <th>over_6</th>\n",
       "      <th>over_7</th>\n",
       "      <th>over_8</th>\n",
       "      <th>...</th>\n",
       "      <th>over_11</th>\n",
       "      <th>over_12</th>\n",
       "      <th>over_13</th>\n",
       "      <th>over_14</th>\n",
       "      <th>over_15</th>\n",
       "      <th>over_16</th>\n",
       "      <th>over_17</th>\n",
       "      <th>over_18</th>\n",
       "      <th>over_19</th>\n",
       "      <th>over_20</th>\n",
       "    </tr>\n",
       "  </thead>\n",
       "  <tbody>\n",
       "    <tr>\n",
       "      <th>count</th>\n",
       "      <td>119982.000000</td>\n",
       "      <td>119982.000000</td>\n",
       "      <td>119982.000000</td>\n",
       "      <td>119982.000000</td>\n",
       "      <td>119982.000000</td>\n",
       "      <td>119982.000000</td>\n",
       "      <td>119982.000000</td>\n",
       "      <td>119982.000000</td>\n",
       "      <td>119982.000000</td>\n",
       "      <td>119982.000000</td>\n",
       "      <td>...</td>\n",
       "      <td>119982.000000</td>\n",
       "      <td>119982.000000</td>\n",
       "      <td>119982.000000</td>\n",
       "      <td>119982.000000</td>\n",
       "      <td>119982.000000</td>\n",
       "      <td>119982.000000</td>\n",
       "      <td>119982.000000</td>\n",
       "      <td>119982.000000</td>\n",
       "      <td>119982.000000</td>\n",
       "      <td>119982.000000</td>\n",
       "    </tr>\n",
       "    <tr>\n",
       "      <th>mean</th>\n",
       "      <td>3.613825</td>\n",
       "      <td>16.628761</td>\n",
       "      <td>0.053108</td>\n",
       "      <td>0.053091</td>\n",
       "      <td>0.052625</td>\n",
       "      <td>0.052258</td>\n",
       "      <td>0.052541</td>\n",
       "      <td>0.052741</td>\n",
       "      <td>0.051791</td>\n",
       "      <td>0.051516</td>\n",
       "      <td>...</td>\n",
       "      <td>0.050983</td>\n",
       "      <td>0.050599</td>\n",
       "      <td>0.050491</td>\n",
       "      <td>0.050074</td>\n",
       "      <td>0.049632</td>\n",
       "      <td>0.048916</td>\n",
       "      <td>0.048599</td>\n",
       "      <td>0.046632</td>\n",
       "      <td>0.043223</td>\n",
       "      <td>0.037964</td>\n",
       "    </tr>\n",
       "    <tr>\n",
       "      <th>std</th>\n",
       "      <td>1.807418</td>\n",
       "      <td>17.931793</td>\n",
       "      <td>0.224250</td>\n",
       "      <td>0.224216</td>\n",
       "      <td>0.223284</td>\n",
       "      <td>0.222547</td>\n",
       "      <td>0.223117</td>\n",
       "      <td>0.223517</td>\n",
       "      <td>0.221606</td>\n",
       "      <td>0.221049</td>\n",
       "      <td>...</td>\n",
       "      <td>0.219963</td>\n",
       "      <td>0.219179</td>\n",
       "      <td>0.218957</td>\n",
       "      <td>0.218099</td>\n",
       "      <td>0.217185</td>\n",
       "      <td>0.215693</td>\n",
       "      <td>0.215029</td>\n",
       "      <td>0.210850</td>\n",
       "      <td>0.203360</td>\n",
       "      <td>0.191110</td>\n",
       "    </tr>\n",
       "    <tr>\n",
       "      <th>min</th>\n",
       "      <td>1.000000</td>\n",
       "      <td>0.000000</td>\n",
       "      <td>0.000000</td>\n",
       "      <td>0.000000</td>\n",
       "      <td>0.000000</td>\n",
       "      <td>0.000000</td>\n",
       "      <td>0.000000</td>\n",
       "      <td>0.000000</td>\n",
       "      <td>0.000000</td>\n",
       "      <td>0.000000</td>\n",
       "      <td>...</td>\n",
       "      <td>0.000000</td>\n",
       "      <td>0.000000</td>\n",
       "      <td>0.000000</td>\n",
       "      <td>0.000000</td>\n",
       "      <td>0.000000</td>\n",
       "      <td>0.000000</td>\n",
       "      <td>0.000000</td>\n",
       "      <td>0.000000</td>\n",
       "      <td>0.000000</td>\n",
       "      <td>0.000000</td>\n",
       "    </tr>\n",
       "    <tr>\n",
       "      <th>25%</th>\n",
       "      <td>2.000000</td>\n",
       "      <td>3.000000</td>\n",
       "      <td>0.000000</td>\n",
       "      <td>0.000000</td>\n",
       "      <td>0.000000</td>\n",
       "      <td>0.000000</td>\n",
       "      <td>0.000000</td>\n",
       "      <td>0.000000</td>\n",
       "      <td>0.000000</td>\n",
       "      <td>0.000000</td>\n",
       "      <td>...</td>\n",
       "      <td>0.000000</td>\n",
       "      <td>0.000000</td>\n",
       "      <td>0.000000</td>\n",
       "      <td>0.000000</td>\n",
       "      <td>0.000000</td>\n",
       "      <td>0.000000</td>\n",
       "      <td>0.000000</td>\n",
       "      <td>0.000000</td>\n",
       "      <td>0.000000</td>\n",
       "      <td>0.000000</td>\n",
       "    </tr>\n",
       "    <tr>\n",
       "      <th>50%</th>\n",
       "      <td>4.000000</td>\n",
       "      <td>11.000000</td>\n",
       "      <td>0.000000</td>\n",
       "      <td>0.000000</td>\n",
       "      <td>0.000000</td>\n",
       "      <td>0.000000</td>\n",
       "      <td>0.000000</td>\n",
       "      <td>0.000000</td>\n",
       "      <td>0.000000</td>\n",
       "      <td>0.000000</td>\n",
       "      <td>...</td>\n",
       "      <td>0.000000</td>\n",
       "      <td>0.000000</td>\n",
       "      <td>0.000000</td>\n",
       "      <td>0.000000</td>\n",
       "      <td>0.000000</td>\n",
       "      <td>0.000000</td>\n",
       "      <td>0.000000</td>\n",
       "      <td>0.000000</td>\n",
       "      <td>0.000000</td>\n",
       "      <td>0.000000</td>\n",
       "    </tr>\n",
       "    <tr>\n",
       "      <th>75%</th>\n",
       "      <td>5.000000</td>\n",
       "      <td>25.000000</td>\n",
       "      <td>0.000000</td>\n",
       "      <td>0.000000</td>\n",
       "      <td>0.000000</td>\n",
       "      <td>0.000000</td>\n",
       "      <td>0.000000</td>\n",
       "      <td>0.000000</td>\n",
       "      <td>0.000000</td>\n",
       "      <td>0.000000</td>\n",
       "      <td>...</td>\n",
       "      <td>0.000000</td>\n",
       "      <td>0.000000</td>\n",
       "      <td>0.000000</td>\n",
       "      <td>0.000000</td>\n",
       "      <td>0.000000</td>\n",
       "      <td>0.000000</td>\n",
       "      <td>0.000000</td>\n",
       "      <td>0.000000</td>\n",
       "      <td>0.000000</td>\n",
       "      <td>0.000000</td>\n",
       "    </tr>\n",
       "    <tr>\n",
       "      <th>max</th>\n",
       "      <td>9.000000</td>\n",
       "      <td>173.000000</td>\n",
       "      <td>1.000000</td>\n",
       "      <td>1.000000</td>\n",
       "      <td>1.000000</td>\n",
       "      <td>1.000000</td>\n",
       "      <td>1.000000</td>\n",
       "      <td>1.000000</td>\n",
       "      <td>1.000000</td>\n",
       "      <td>1.000000</td>\n",
       "      <td>...</td>\n",
       "      <td>1.000000</td>\n",
       "      <td>1.000000</td>\n",
       "      <td>1.000000</td>\n",
       "      <td>1.000000</td>\n",
       "      <td>1.000000</td>\n",
       "      <td>1.000000</td>\n",
       "      <td>1.000000</td>\n",
       "      <td>1.000000</td>\n",
       "      <td>1.000000</td>\n",
       "      <td>1.000000</td>\n",
       "    </tr>\n",
       "  </tbody>\n",
       "</table>\n",
       "<p>8 rows × 22 columns</p>\n",
       "</div>"
      ],
      "text/plain": [
       "                ball  cumulative_runs         over_1         over_2  \\\n",
       "count  119982.000000    119982.000000  119982.000000  119982.000000   \n",
       "mean        3.613825        16.628761       0.053108       0.053091   \n",
       "std         1.807418        17.931793       0.224250       0.224216   \n",
       "min         1.000000         0.000000       0.000000       0.000000   \n",
       "25%         2.000000         3.000000       0.000000       0.000000   \n",
       "50%         4.000000        11.000000       0.000000       0.000000   \n",
       "75%         5.000000        25.000000       0.000000       0.000000   \n",
       "max         9.000000       173.000000       1.000000       1.000000   \n",
       "\n",
       "              over_3         over_4         over_5         over_6  \\\n",
       "count  119982.000000  119982.000000  119982.000000  119982.000000   \n",
       "mean        0.052625       0.052258       0.052541       0.052741   \n",
       "std         0.223284       0.222547       0.223117       0.223517   \n",
       "min         0.000000       0.000000       0.000000       0.000000   \n",
       "25%         0.000000       0.000000       0.000000       0.000000   \n",
       "50%         0.000000       0.000000       0.000000       0.000000   \n",
       "75%         0.000000       0.000000       0.000000       0.000000   \n",
       "max         1.000000       1.000000       1.000000       1.000000   \n",
       "\n",
       "              over_7         over_8  ...        over_11        over_12  \\\n",
       "count  119982.000000  119982.000000  ...  119982.000000  119982.000000   \n",
       "mean        0.051791       0.051516  ...       0.050983       0.050599   \n",
       "std         0.221606       0.221049  ...       0.219963       0.219179   \n",
       "min         0.000000       0.000000  ...       0.000000       0.000000   \n",
       "25%         0.000000       0.000000  ...       0.000000       0.000000   \n",
       "50%         0.000000       0.000000  ...       0.000000       0.000000   \n",
       "75%         0.000000       0.000000  ...       0.000000       0.000000   \n",
       "max         1.000000       1.000000  ...       1.000000       1.000000   \n",
       "\n",
       "             over_13        over_14        over_15        over_16  \\\n",
       "count  119982.000000  119982.000000  119982.000000  119982.000000   \n",
       "mean        0.050491       0.050074       0.049632       0.048916   \n",
       "std         0.218957       0.218099       0.217185       0.215693   \n",
       "min         0.000000       0.000000       0.000000       0.000000   \n",
       "25%         0.000000       0.000000       0.000000       0.000000   \n",
       "50%         0.000000       0.000000       0.000000       0.000000   \n",
       "75%         0.000000       0.000000       0.000000       0.000000   \n",
       "max         1.000000       1.000000       1.000000       1.000000   \n",
       "\n",
       "             over_17        over_18        over_19        over_20  \n",
       "count  119982.000000  119982.000000  119982.000000  119982.000000  \n",
       "mean        0.048599       0.046632       0.043223       0.037964  \n",
       "std         0.215029       0.210850       0.203360       0.191110  \n",
       "min         0.000000       0.000000       0.000000       0.000000  \n",
       "25%         0.000000       0.000000       0.000000       0.000000  \n",
       "50%         0.000000       0.000000       0.000000       0.000000  \n",
       "75%         0.000000       0.000000       0.000000       0.000000  \n",
       "max         1.000000       1.000000       1.000000       1.000000  \n",
       "\n",
       "[8 rows x 22 columns]"
      ]
     },
     "execution_count": 43,
     "metadata": {},
     "output_type": "execute_result"
    }
   ],
   "source": [
    "X_train_x.describe()"
   ]
  },
  {
   "cell_type": "code",
   "execution_count": 53,
   "metadata": {},
   "outputs": [],
   "source": []
  },
  {
   "cell_type": "markdown",
   "metadata": {},
   "source": [
    "## Testing"
   ]
  },
  {
   "cell_type": "code",
   "execution_count": 73,
   "metadata": {},
   "outputs": [],
   "source": [
    "X_test_overs_1 = X_test.iloc[:,[1, 4]]\n",
    "X_test_overs_3 = X_test.iloc[:,1448:1468]\n",
    "#X_train_overs_1.append([X_train_overs_2, X_test_overs_3])\n",
    "X_test_overs_1 = pd.concat([X_train_overs_1, X_train_overs_3], axis=1, join = 'inner')"
   ]
  },
  {
   "cell_type": "code",
   "execution_count": 77,
   "metadata": {},
   "outputs": [],
   "source": [
    "X_test_bowl_1 = X_test.iloc[:,[5]]\n",
    "X_test_bowl_2 = X_test.iloc[:,1043:1448]\n",
    "X_test_bowl_3 = X_test.iloc[:,1448:1468]\n",
    "#X_train_overs_1.append([X_train_overs_2, X_test_overs_3])\n",
    "X_test_bowl_1 = pd.concat([X_test_bowl_1, X_test_bowl_2, X_test_bowl_3], axis=1, join = 'inner')"
   ]
  },
  {
   "cell_type": "code",
   "execution_count": 78,
   "metadata": {},
   "outputs": [],
   "source": [
    "X_test_overs_1 = X_test.iloc[:,[1, 15]]\n",
    "X_test_overs_3 = X_test.iloc[:,16:532]\n",
    "#X_train_overs_1.append([X_train_overs_2, X_test_overs_3])\n",
    "X_test_bat_1 = pd.concat([X_test_overs_1, X_test_overs_3], axis=1, join = 'inner')"
   ]
  },
  {
   "cell_type": "code",
   "execution_count": 79,
   "metadata": {},
   "outputs": [],
   "source": [
    "X_test_par_1 = X_test.iloc[:,523:1042]\n",
    "X_test_par_3 = X_test.iloc[:,16:532]\n",
    "#X_train_overs_1.append([X_train_overs_2, X_test_overs_3])\n",
    "X_test_par_1 = pd.concat([X_test_par_1, X_test_par_3], axis=1, join = 'inner')"
   ]
  },
  {
   "cell_type": "code",
   "execution_count": 81,
   "metadata": {},
   "outputs": [],
   "source": [
    "X_test_x_1 = X_test.iloc[:,[15]]\n",
    "X_test_x_3 = X_test.iloc[:,1448:1468]\n",
    "X_test_x_1 = pd.concat([X_test_x_1, X_test_x_3], axis=1, join = 'inner')"
   ]
  },
  {
   "cell_type": "code",
   "execution_count": 92,
   "metadata": {},
   "outputs": [],
   "source": [
    "p_1 = model.predict(X_test_overs_1)"
   ]
  },
  {
   "cell_type": "code",
   "execution_count": 100,
   "metadata": {},
   "outputs": [],
   "source": [
    "p_2 = model_bowlers.predict(X_test_bowl_1)"
   ]
  },
  {
   "cell_type": "code",
   "execution_count": 106,
   "metadata": {},
   "outputs": [],
   "source": [
    "p_3 = model_bat.predict(X_test_bat_1)"
   ]
  },
  {
   "cell_type": "code",
   "execution_count": 116,
   "metadata": {},
   "outputs": [],
   "source": [
    "p_4 = model_partnership.predict(X_test_par_1)"
   ]
  },
  {
   "cell_type": "code",
   "execution_count": 117,
   "metadata": {},
   "outputs": [],
   "source": [
    "p_5 = model_x.predict(X_test_x_1)"
   ]
  },
  {
   "cell_type": "code",
   "execution_count": 118,
   "metadata": {},
   "outputs": [],
   "source": [
    "p_6 = p_1+p_2+p_3+p_4+p_5"
   ]
  },
  {
   "cell_type": "code",
   "execution_count": 120,
   "metadata": {},
   "outputs": [
    {
     "name": "stdout",
     "output_type": "stream",
     "text": [
      "0.45769595234872074\n"
     ]
    }
   ],
   "source": [
    "true = 0\n",
    "y_testt = list(y_test_runs)\n",
    "for x in range (len(p_6)):\n",
    "    if((p_6[x].argmax()) == y_testt[x]):\n",
    "        true+=1\n",
    "\n",
    "print(true/len(p_6))"
   ]
  },
  {
   "cell_type": "code",
   "execution_count": 124,
   "metadata": {},
   "outputs": [],
   "source": [
    "X_test_complete_1 = X_test.iloc[:,[1]]\n",
    "X_test_complete_3 = X_test.iloc[:,4:1468]\n",
    "#X_train_overs_1.append([X_train_overs_2, X_test_overs_3])\n",
    "X_test_complete_1 = pd.concat([X_test_complete_1, X_test_complete_3], axis=1, join = 'inner')\n",
    "X_test_complete_1 = X_test_complete_1.drop([ 'player_dismissed', 'dismissal_kind', 'fielder'], axis =1)"
   ]
  },
  {
   "cell_type": "code",
   "execution_count": 126,
   "metadata": {},
   "outputs": [
    {
     "name": "stdout",
     "output_type": "stream",
     "text": [
      "59096/59096 [==============================] - 3s 57us/sample - loss: 1.2932 - accuracy: 0.4754\n"
     ]
    },
    {
     "data": {
      "text/plain": [
       "[1.2932271618828233, 0.47544673]"
      ]
     },
     "execution_count": 126,
     "metadata": {},
     "output_type": "execute_result"
    }
   ],
   "source": [
    "model_complete.evaluate(X_test_complete_1.values, y_test_runs)"
   ]
  },
  {
   "cell_type": "code",
   "execution_count": 16,
   "metadata": {},
   "outputs": [
    {
     "data": {
      "text/html": [
       "<div>\n",
       "<style scoped>\n",
       "    .dataframe tbody tr th:only-of-type {\n",
       "        vertical-align: middle;\n",
       "    }\n",
       "\n",
       "    .dataframe tbody tr th {\n",
       "        vertical-align: top;\n",
       "    }\n",
       "\n",
       "    .dataframe thead th {\n",
       "        text-align: right;\n",
       "    }\n",
       "</style>\n",
       "<table border=\"1\" class=\"dataframe\">\n",
       "  <thead>\n",
       "    <tr style=\"text-align: right;\">\n",
       "      <th></th>\n",
       "      <th>match_id</th>\n",
       "      <th>inning</th>\n",
       "      <th>batting_team</th>\n",
       "      <th>bowling_team</th>\n",
       "      <th>ball</th>\n",
       "      <th>is_super_over</th>\n",
       "      <th>wide_runs</th>\n",
       "      <th>bye_runs</th>\n",
       "      <th>legbye_runs</th>\n",
       "      <th>noball_runs</th>\n",
       "      <th>penalty_runs</th>\n",
       "      <th>extra_runs</th>\n",
       "      <th>player_dismissed</th>\n",
       "      <th>dismissal_kind</th>\n",
       "      <th>fielder</th>\n",
       "      <th>cumulative_runs</th>\n",
       "      <th>batsman_A Ashish Reddy</th>\n",
       "    </tr>\n",
       "  </thead>\n",
       "  <tbody>\n",
       "    <tr>\n",
       "      <th>10557</th>\n",
       "      <td>45</td>\n",
       "      <td>2</td>\n",
       "      <td>Kolkata Knight Riders</td>\n",
       "      <td>Royal Challengers Bangalore</td>\n",
       "      <td>5</td>\n",
       "      <td>0</td>\n",
       "      <td>1</td>\n",
       "      <td>0</td>\n",
       "      <td>0</td>\n",
       "      <td>0</td>\n",
       "      <td>0</td>\n",
       "      <td>1</td>\n",
       "      <td>NaN</td>\n",
       "      <td>NaN</td>\n",
       "      <td>NaN</td>\n",
       "      <td>44</td>\n",
       "      <td>0</td>\n",
       "    </tr>\n",
       "    <tr>\n",
       "      <th>2086</th>\n",
       "      <td>9</td>\n",
       "      <td>2</td>\n",
       "      <td>Rising Pune Supergiant</td>\n",
       "      <td>Delhi Daredevils</td>\n",
       "      <td>3</td>\n",
       "      <td>0</td>\n",
       "      <td>0</td>\n",
       "      <td>0</td>\n",
       "      <td>0</td>\n",
       "      <td>0</td>\n",
       "      <td>0</td>\n",
       "      <td>0</td>\n",
       "      <td>NaN</td>\n",
       "      <td>NaN</td>\n",
       "      <td>NaN</td>\n",
       "      <td>10</td>\n",
       "      <td>0</td>\n",
       "    </tr>\n",
       "    <tr>\n",
       "      <th>142206</th>\n",
       "      <td>601</td>\n",
       "      <td>2</td>\n",
       "      <td>Gujarat Lions</td>\n",
       "      <td>Rising Pune Supergiants</td>\n",
       "      <td>5</td>\n",
       "      <td>0</td>\n",
       "      <td>0</td>\n",
       "      <td>0</td>\n",
       "      <td>0</td>\n",
       "      <td>0</td>\n",
       "      <td>0</td>\n",
       "      <td>0</td>\n",
       "      <td>NaN</td>\n",
       "      <td>NaN</td>\n",
       "      <td>NaN</td>\n",
       "      <td>18</td>\n",
       "      <td>0</td>\n",
       "    </tr>\n",
       "    <tr>\n",
       "      <th>45359</th>\n",
       "      <td>193</td>\n",
       "      <td>1</td>\n",
       "      <td>Rajasthan Royals</td>\n",
       "      <td>Kings XI Punjab</td>\n",
       "      <td>2</td>\n",
       "      <td>0</td>\n",
       "      <td>0</td>\n",
       "      <td>0</td>\n",
       "      <td>0</td>\n",
       "      <td>0</td>\n",
       "      <td>0</td>\n",
       "      <td>0</td>\n",
       "      <td>NaN</td>\n",
       "      <td>NaN</td>\n",
       "      <td>NaN</td>\n",
       "      <td>36</td>\n",
       "      <td>0</td>\n",
       "    </tr>\n",
       "    <tr>\n",
       "      <th>10303</th>\n",
       "      <td>44</td>\n",
       "      <td>1</td>\n",
       "      <td>Mumbai Indians</td>\n",
       "      <td>Delhi Daredevils</td>\n",
       "      <td>2</td>\n",
       "      <td>0</td>\n",
       "      <td>0</td>\n",
       "      <td>0</td>\n",
       "      <td>0</td>\n",
       "      <td>0</td>\n",
       "      <td>0</td>\n",
       "      <td>0</td>\n",
       "      <td>NaN</td>\n",
       "      <td>NaN</td>\n",
       "      <td>NaN</td>\n",
       "      <td>51</td>\n",
       "      <td>0</td>\n",
       "    </tr>\n",
       "  </tbody>\n",
       "</table>\n",
       "</div>"
      ],
      "text/plain": [
       "        match_id  inning            batting_team                 bowling_team  \\\n",
       "10557         45       2   Kolkata Knight Riders  Royal Challengers Bangalore   \n",
       "2086           9       2  Rising Pune Supergiant             Delhi Daredevils   \n",
       "142206       601       2           Gujarat Lions      Rising Pune Supergiants   \n",
       "45359        193       1        Rajasthan Royals              Kings XI Punjab   \n",
       "10303         44       1          Mumbai Indians             Delhi Daredevils   \n",
       "\n",
       "        ball  is_super_over  wide_runs  bye_runs  legbye_runs  noball_runs  \\\n",
       "10557      5              0          1         0            0            0   \n",
       "2086       3              0          0         0            0            0   \n",
       "142206     5              0          0         0            0            0   \n",
       "45359      2              0          0         0            0            0   \n",
       "10303      2              0          0         0            0            0   \n",
       "\n",
       "        penalty_runs  extra_runs player_dismissed dismissal_kind fielder  \\\n",
       "10557              0           1              NaN            NaN     NaN   \n",
       "2086               0           0              NaN            NaN     NaN   \n",
       "142206             0           0              NaN            NaN     NaN   \n",
       "45359              0           0              NaN            NaN     NaN   \n",
       "10303              0           0              NaN            NaN     NaN   \n",
       "\n",
       "        cumulative_runs  batsman_A Ashish Reddy  \n",
       "10557                44                       0  \n",
       "2086                 10                       0  \n",
       "142206               18                       0  \n",
       "45359                36                       0  \n",
       "10303                51                       0  "
      ]
     },
     "execution_count": 16,
     "metadata": {},
     "output_type": "execute_result"
    }
   ],
   "source": [
    "X_test.iloc[:5,:17]"
   ]
  },
  {
   "cell_type": "code",
   "execution_count": null,
   "metadata": {},
   "outputs": [],
   "source": []
  }
 ],
 "metadata": {
  "kernelspec": {
   "display_name": "FD",
   "language": "python",
   "name": "fd"
  },
  "language_info": {
   "codemirror_mode": {
    "name": "ipython",
    "version": 3
   },
   "file_extension": ".py",
   "mimetype": "text/x-python",
   "name": "python",
   "nbconvert_exporter": "python",
   "pygments_lexer": "ipython3",
   "version": "3.7.6"
  }
 },
 "nbformat": 4,
 "nbformat_minor": 4
}
